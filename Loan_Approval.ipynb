{
  "nbformat": 4,
  "nbformat_minor": 0,
  "metadata": {
    "colab": {
      "provenance": [],
      "authorship_tag": "ABX9TyNifEaGsfXigqRdOYVxVlI8",
      "include_colab_link": true
    },
    "kernelspec": {
      "name": "ir",
      "display_name": "R"
    },
    "language_info": {
      "name": "R"
    }
  },
  "cells": [
    {
      "cell_type": "markdown",
      "metadata": {
        "id": "view-in-github",
        "colab_type": "text"
      },
      "source": [
        "<a href=\"https://colab.research.google.com/github/sakshishinde075/Predicting-Loan-Approval-with-R-/blob/main/Loan_Approval.ipynb\" target=\"_parent\"><img src=\"https://colab.research.google.com/assets/colab-badge.svg\" alt=\"Open In Colab\"/></a>"
      ]
    },
    {
      "cell_type": "code",
      "source": [
        "# 1) Install & load packages (will install caret if missing)\n",
        "packages <- c(\"caret\",\"class\",\"ggplot2\",\"dplyr\",\"readr\",\"caTools\",\"e1071\",\"recipes\")\n",
        "to_install <- packages[!(packages %in% installed.packages()[,\"Package\"])]\n",
        "if(length(to_install)) {\n",
        "  install.packages(to_install, repos = \"https://cloud.r-project.org\", dependencies = TRUE)\n",
        "}\n",
        "invisible(lapply(packages, require, character.only = TRUE))\n",
        "\n",
        "# 2) (Optional) If you don't have a dataset, create a small synthetic one:\n",
        "if(!file.exists(\"loan_data.csv\")) {\n",
        "  set.seed(123)\n",
        "  n <- 600\n",
        "  data <- data.frame(\n",
        "    Gender = sample(c(\"Male\",\"Female\"), n, replace = TRUE),\n",
        "    Married = sample(c(\"Yes\",\"No\"), n, replace = TRUE),\n",
        "    Education = sample(c(\"Graduate\",\"Not Graduate\"), n, replace = TRUE),\n",
        "    Self_Employed = sample(c(\"Yes\",\"No\"), n, replace = TRUE),\n",
        "    ApplicantIncome = round(rnorm(n, 5000, 2000)),\n",
        "    CoapplicantIncome = round(rnorm(n, 1500, 900)),\n",
        "    LoanAmount = round(rnorm(n, 140, 50)),\n",
        "    Loan_Amount_Term = sample(c(360, 120, 180, 240), n, replace = TRUE),\n",
        "    Credit_History = sample(c(1,0), n, replace = TRUE, prob = c(0.8,0.2)),\n",
        "    Property_Area = sample(c(\"Urban\",\"Rural\",\"Semiurban\"), n, replace = TRUE),\n",
        "    Loan_Status = sample(c(\"Y\",\"N\"), n, replace = TRUE, prob = c(0.7,0.3))\n",
        "  )\n",
        "} else {\n",
        "  data <- read.csv(\"loan_data.csv\", stringsAsFactors = FALSE)\n",
        "}\n",
        "\n",
        "# 3) Basic preprocessing / imputation\n",
        "get_mode <- function(x){\n",
        "  x <- x[!is.na(x)]\n",
        "  ux <- unique(x)\n",
        "  ux[which.max(tabulate(match(x, ux)))]\n",
        "}\n",
        "\n",
        "# Impute numeric with median\n",
        "num_cols <- names(data)[sapply(data, is.numeric)]\n",
        "for(col in num_cols){\n",
        "  data[[col]][is.na(data[[col]])] <- median(data[[col]], na.rm = TRUE)\n",
        "}\n",
        "\n",
        "# Impute categorical with mode and convert to factor\n",
        "cat_cols <- names(data)[sapply(data, function(x) is.character(x) || is.factor(x))]\n",
        "for(col in cat_cols){\n",
        "  data[[col]][is.na(data[[col]])] <- get_mode(data[[col]])\n",
        "  data[[col]] <- as.factor(data[[col]])\n",
        "}\n",
        "\n",
        "# Ensure target is factor\n",
        "data$Loan_Status <- as.factor(data$Loan_Status)\n",
        "\n",
        "# Feature engineering (optional)\n",
        "if(all(c(\"ApplicantIncome\",\"CoapplicantIncome\") %in% names(data))){\n",
        "  data$Total_Income <- data$ApplicantIncome + data$CoapplicantIncome\n",
        "}\n",
        "\n",
        "# 4) Prepare predictors for KNN (KNN needs numeric inputs)\n",
        "predictors <- setdiff(names(data), c(\"Loan_Status\",\"Loan_ID\")) # drop Loan_ID if exists\n",
        "# Use caret's dummyVars to convert factor -> numeric dummies (safe)\n",
        "dmy <- caret::dummyVars(~ ., data = data[, predictors], fullRank = TRUE)\n",
        "X <- as.data.frame(predict(dmy, newdata = data[, predictors]))\n",
        "\n",
        "# Scale numeric columns\n",
        "X_scaled <- as.data.frame(scale(X))\n",
        "\n",
        "# 5) Train-test split\n",
        "set.seed(123)\n",
        "if(\"createDataPartition\" %in% ls(\"package:caret\")) {\n",
        "  trainIndex <- caret::createDataPartition(data$Loan_Status, p = 0.8, list = FALSE)\n",
        "  train_x <- X_scaled[trainIndex, ]\n",
        "  test_x  <- X_scaled[-trainIndex, ]\n",
        "  train_y <- data$Loan_Status[trainIndex]\n",
        "  test_y  <- data$Loan_Status[-trainIndex]\n",
        "} else {\n",
        "  library(caTools)\n",
        "  sp <- sample.split(data$Loan_Status, SplitRatio = 0.8)\n",
        "  train_x <- X_scaled[sp, ]\n",
        "  test_x  <- X_scaled[!sp, ]\n",
        "  train_y <- data$Loan_Status[sp]\n",
        "  test_y  <- data$Loan_Status[!sp]\n",
        "}\n",
        "\n",
        "# 6) Fit KNN (k = 5 by default) and evaluate\n",
        "library(class)\n",
        "k_val <- 5\n",
        "knn_pred <- knn(train = train_x, test = test_x, cl = train_y, k = k_val)\n",
        "\n",
        "if(\"confusionMatrix\" %in% ls(\"package:caret\")) {\n",
        "  print(caret::confusionMatrix(knn_pred, test_y))\n",
        "} else {\n",
        "  print(table(Predicted = knn_pred, Actual = test_y))\n",
        "  acc <- mean(knn_pred == test_y)\n",
        "  cat(\"Accuracy:\", round(acc, 4), \"\\n\")\n",
        "}\n",
        "\n",
        "# 7) Tuning k with caret (if available)\n",
        "if(\"train\" %in% ls(\"package:caret\")) {\n",
        "  set.seed(123)\n",
        "  ctrl <- trainControl(method = \"cv\", number = 5)\n",
        "  knn_cv <- train(x = train_x, y = train_y,\n",
        "                  method = \"knn\",\n",
        "                  trControl = ctrl,\n",
        "                  tuneLength = 10)\n",
        "  print(knn_cv)\n",
        "  plot(knn_cv)\n",
        "} else {\n",
        "  cat(\"caret::train not available — skipping caret-based tuning (but main KNN already ran).\\n\")\n",
        "}\n"
      ],
      "metadata": {
        "colab": {
          "base_uri": "https://localhost:8080/"
        },
        "id": "3F7hf0Zf-VkL",
        "outputId": "1f05aeef-a1ce-44d1-8ed2-37b663c42286"
      },
      "execution_count": null,
      "outputs": [
        {
          "metadata": {
            "tags": null
          },
          "name": "stderr",
          "output_type": "stream",
          "text": [
            "Installing packages into ‘/usr/local/lib/R/site-library’\n",
            "(as ‘lib’ is unspecified)\n",
            "\n",
            "also installing the dependencies ‘rbibutils’, ‘R.methodsS3’, ‘R.oo’, ‘R.utils’, ‘Rdpack’, ‘shape’, ‘future.apply’, ‘numDeriv’, ‘progressr’, ‘SQUAREM’, ‘R.cache’, ‘TH.data’, ‘abind’, ‘listenv’, ‘parallelly’, ‘profileModel’, ‘minqa’, ‘nloptr’, ‘reformulas’, ‘lazyeval’, ‘plotrix’, ‘diagram’, ‘lava’, ‘styler’, ‘classInt’, ‘labelled’, ‘gplots’, ‘libcoin’, ‘matrixStats’, ‘multcomp’, ‘DEoptimR’, ‘magic’, ‘lpSolve’, ‘linprog’, ‘RcppProgress’, ‘future’, ‘warp’, ‘iterators’, ‘brglm’, ‘gtools’, ‘lme4’, ‘qvcalc’, ‘rex’, ‘Formula’, ‘plotmo’, ‘prodlim’, ‘combinat’, ‘questionr’, ‘ROCR’, ‘mvtnorm’, ‘modeltools’, ‘strucchange’, ‘coin’, ‘zoo’, ‘sandwich’, ‘ROSE’, ‘robustbase’, ‘sfsmisc’, ‘geometry’, ‘BH’, ‘DiceDesign’, ‘sfd’, ‘globals’, ‘furrr’, ‘slider’, ‘RcppEigen’, ‘RcppArmadillo’, ‘modelenv’, ‘foreach’, ‘ModelMetrics’, ‘plyr’, ‘pROC’, ‘reshape2’, ‘BradleyTerry2’, ‘covr’, ‘Cubist’, ‘earth’, ‘ellipse’, ‘fastICA’, ‘gam’, ‘ipred’, ‘kernlab’, ‘klaR’, ‘mda’, ‘mlbench’, ‘MLmetrics’, ‘pamr’, ‘party’, ‘pls’, ‘proxy’, ‘randomForest’, ‘RANN’, ‘spls’, ‘superpc’, ‘themis’, ‘bitops’, ‘SparseM’, ‘slam’, ‘clock’, ‘gower’, ‘hardhat’, ‘sparsevctrs’, ‘timeDate’, ‘ddalpha’, ‘dials’, ‘igraph’, ‘modeldata’, ‘parsnip’, ‘RcppRoll’, ‘rsample’, ‘RSpectra’, ‘splines2’, ‘workflows’\n",
            "\n",
            "\n"
          ]
        }
      ]
    }
  ]
}